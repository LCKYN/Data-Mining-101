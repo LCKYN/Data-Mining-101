{
 "cells": [
  {
   "cell_type": "markdown",
   "metadata": {},
   "source": [
    "# Introduction Iris dataset\n",
    "load dataset from sklearn.datasets"
   ]
  },
  {
   "cell_type": "code",
   "execution_count": 1,
   "metadata": {},
   "outputs": [],
   "source": [
    "from sklearn.datasets import load_iris\n",
    "iris = load_iris()"
   ]
  },
  {
   "cell_type": "markdown",
   "metadata": {},
   "source": [
    "## Iris plants dataset\n",
    "\n",
    "* Data Set Characteristics (150, 4)\n",
    "    * Number of Instances : 150 (50 in each of three species)\n",
    "        - Setosa\n",
    "        - Versicolour\n",
    "        - Virginica\n",
    "    * Number of Attributes : 4\n",
    "        - sepal length (cm)\n",
    "        - sepal width (cm)\n",
    "        - petal length (cm)\n",
    "        - petal width (cm)\n",
    "        \n",
    "The famous Iris database, first used by Sir R.A. Fisher. The dataset is taken\n",
    "from Fisher's paper. Note that it's the same as in R, but not as in the UCI\n",
    "Machine Learning Repository, which has two wrong data points.\n",
    "\n",
    "This is perhaps the best known database to be found in the\n",
    "pattern recognition literature.  Fisher's paper is a classic in the field and\n",
    "is referenced frequently to this day.  (See Duda & Hart, for example.)  The\n",
    "data set contains 3 classes of 50 instances each, where each class refers to a\n",
    "type of iris plant.  One class is linearly separable from the other 2; the\n",
    "latter are NOT linearly separable from each other."
   ]
  },
  {
   "cell_type": "markdown",
   "metadata": {},
   "source": [
    "#### example : \n",
    "\n",
    "|sepal length (cm)|sepal width (cm)|petal length (cm)|petal width (cm)|species|\n",
    "|---|---|---|---|---|\n",
    "|5.1|3.5|1.4|0.2|Setosa|\n",
    "|4.9|3|1.4|0.2|Setosa|\n",
    "|7|3.2|4.7|1.4|Versicolour|\n",
    "|6.4|3.2|4.5|1.4|Versicolour|\n",
    "|6.3|3.3|6|2.5|Virginica|\n",
    "|5.8|2.7|5.1|1.9|Virginica|"
   ]
  },
  {
   "cell_type": "code",
   "execution_count": null,
   "metadata": {},
   "outputs": [],
   "source": []
  }
 ],
 "metadata": {
  "kernelspec": {
   "display_name": "Python 3",
   "language": "python",
   "name": "python3"
  },
  "language_info": {
   "codemirror_mode": {
    "name": "ipython",
    "version": 3
   },
   "file_extension": ".py",
   "mimetype": "text/x-python",
   "name": "python",
   "nbconvert_exporter": "python",
   "pygments_lexer": "ipython3",
   "version": "3.8.5"
  }
 },
 "nbformat": 4,
 "nbformat_minor": 4
}
